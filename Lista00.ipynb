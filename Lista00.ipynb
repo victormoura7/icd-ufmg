{
  "nbformat": 4,
  "nbformat_minor": 0,
  "metadata": {
    "kernelspec": {
      "display_name": "Python 3",
      "language": "python",
      "name": "python3"
    },
    "language_info": {
      "codemirror_mode": {
        "name": "ipython",
        "version": 3
      },
      "file_extension": ".py",
      "mimetype": "text/x-python",
      "name": "python",
      "nbconvert_exporter": "python",
      "pygments_lexer": "ipython3",
      "version": "3.6.8"
    },
    "colab": {
      "name": "Lista00.ipynb",
      "provenance": [],
      "collapsed_sections": []
    }
  },
  "cells": [
    {
      "cell_type": "markdown",
      "metadata": {
        "deletable": false,
        "editable": false,
        "nbgrader": {
          "checksum": "aba9362ebef107942b46a48be073a1d2",
          "grade": false,
          "grade_id": "cellc-a00",
          "locked": true,
          "schema_version": 1,
          "solution": false
        },
        "id": "1nfshQ5ZB4rx"
      },
      "source": [
        "# Lista 00 - Revisão Python e Numpy\n",
        "\n",
        "## Principalmente útil para quem não fez a versão nova de ALC!!!"
      ]
    },
    {
      "cell_type": "markdown",
      "metadata": {
        "deletable": false,
        "editable": false,
        "nbgrader": {
          "checksum": "e5ed2cbb0865fedfd38ef48f3a4fd69d",
          "grade": false,
          "grade_id": "cell1c-a00",
          "locked": true,
          "schema_version": 1,
          "solution": false
        },
        "id": "zbt6_nf3B4ry"
      },
      "source": [
        "# Exercício 01:\n",
        "\n",
        "Crie uma função que, dado dois textos, retorne uma __lista__ (que pode ser vazia) em ordem lexicográfica com as palavras que ocorrem em ambos. A função não deve ser case sensitive, nesse caso, transforme todo o texto reescrevendo as palavras em letra minúscula. Para testar sua função, você pode utilizar os dois poemas abaixo, cuja saída esperada é: ['and', 'are', 'is', 'you'] \n",
        "\n",
        "_The rose is a rose,  \n",
        "And was always a rose.  \n",
        "But the theory now goes  \n",
        "That the apple’s a rose,  \n",
        "And the pear is, and so’s  \n",
        "The plum, I suppose.  \n",
        "The dear only knows  \n",
        "What will next prove a rose.  \n",
        "You, of course, are a rose –  \n",
        "But were always a rose._  \n",
        "\n",
        "_Roses are red,  \n",
        "Violets are blue,  \n",
        "sugar is sweet,  \n",
        "And so are you._  \n",
        "\n",
        "\n",
        "\n",
        "__Dicas:__  \n",
        "1. não se preocupe em remover a pontuação do texto.  \n",
        "1. a função sorted(lista) ordena em ordem crescente (ou lexicográfica) uma lista qualquer.  \n",
        "1. a função string.lower() tranforma todos os caracteres da string em letra minúscula.  \n",
        "1. use `re.sub(r'[^\\w]','',word.lower())` para tirar a pontuação de uma palavra: 'you.' -> 'you'\n",
        "\n",
        "__TADs__\n",
        "1. Python contém um tipo `set` que guarda elementos únicos.\n",
        "1. A função `sorted` ordena dados"
      ]
    },
    {
      "cell_type": "code",
      "metadata": {
        "deletable": false,
        "nbgrader": {
          "checksum": "fc9314f86f1b79257a07e03a0b3bdb5e",
          "grade": false,
          "grade_id": "cell1-a00",
          "locked": false,
          "schema_version": 1,
          "solution": true
        },
        "id": "oOScJXQlB4rz"
      },
      "source": [
        "#Exemplo:\n",
        "poem1 = \"\"\"The rose is a rose,\n",
        "And was always a rose.\n",
        "But the theory now goes\n",
        "That the apple’s a rose,\n",
        "And the pear is, and so’s\n",
        "The plum, I suppose.\n",
        "The dear only knows\n",
        "What will next prove a rose.\n",
        "You, of course, are a rose –\n",
        "But were always a rose.\"\"\"\n",
        "\n",
        "poem2 = \"\"\"Roses are red,\n",
        "Violets are blue,\n",
        "sugar is sweet,\n",
        "And so are you.\"\"\"\n",
        "\n",
        "import re\n",
        "\n",
        "def common_words(text1, text2):\n",
        "    text1 = text1.split() # separa as palavras do texto\n",
        "    text1_split = [] # incializa a lista\n",
        "    text2 = text2.split()\n",
        "    text2_split = []\n",
        "\n",
        "    for word in text1:\n",
        "      # retira a pontuação das palavras e as insere numa lista\n",
        "      text1_split.append(re.sub(r'[^\\w]','',word.lower()))\n",
        "    for word in text2:\n",
        "      text2_split.append(re.sub(r'[^\\w]','',word.lower()))\n",
        "    \n",
        "    # verifica quais palavras são iguais\n",
        "    common_set = set(text1_split).intersection(text2_split)\n",
        "\n",
        "    # ordena o set\n",
        "    return (sorted(common_set))"
      ],
      "execution_count": 1,
      "outputs": []
    },
    {
      "cell_type": "code",
      "metadata": {
        "deletable": false,
        "editable": false,
        "nbgrader": {
          "checksum": "3412e5928e483d1be56c207127fe2a45",
          "grade": true,
          "grade_id": "cell1t1-a00",
          "locked": true,
          "points": 1,
          "schema_version": 1,
          "solution": false
        },
        "id": "v18jjtb7B4rz"
      },
      "source": [
        "from numpy.testing import *\n",
        "\"\"\"Check that common_words returns the correct output for several inputs\"\"\"\n",
        "\n",
        "poem1 = \"\"\"The rose is a rose,\n",
        "And was always a rose.\n",
        "But the theory now goes\n",
        "That the apple’s a rose,\n",
        "And the pear is, and so’s\n",
        "The plum, I suppose.\n",
        "The dear only knows\n",
        "What will next prove a rose.\n",
        "You, of course, are a rose –\n",
        "But were always a rose.\"\"\"\n",
        "\n",
        "poem2 = \"\"\"Roses are red,\n",
        "Violets are blue,\n",
        "sugar is sweet,\n",
        "And so are you.\"\"\"\n",
        "\n",
        "assert_equal(common_words(poem1, poem2), ['and', 'are', 'is', 'you'])"
      ],
      "execution_count": 2,
      "outputs": []
    },
    {
      "cell_type": "code",
      "metadata": {
        "deletable": false,
        "editable": false,
        "nbgrader": {
          "checksum": "4297cd4bcc9ae7a6c29c46f0aad69b7c",
          "grade": true,
          "grade_id": "cell1t2-a00",
          "locked": true,
          "points": 1,
          "schema_version": 1,
          "solution": false
        },
        "id": "FY_qurmjB4r0"
      },
      "source": [
        ""
      ],
      "execution_count": 2,
      "outputs": []
    },
    {
      "cell_type": "markdown",
      "metadata": {
        "deletable": false,
        "editable": false,
        "nbgrader": {
          "checksum": "251154c3e850c8cae2d2ee22af452640",
          "grade": false,
          "grade_id": "cell2c-a00",
          "locked": true,
          "schema_version": 1,
          "solution": false
        },
        "id": "u7BwuMnPB4r0"
      },
      "source": [
        "# Exercício 02:\n",
        "\n",
        "Crie uma função que, dado uma lista de tuplas representando pares de palavras com sua respectiva traduação e uma frase, retorne a frase traduzida. As palavras que não possuem uma tradução devem ser impressas como aparecem na frase de entrada. Para testar sua função, você pode utilizar a entrada abaixo, cuja saída esperada é: o cara tossiu.\n",
        "\n",
        "Lista de tuplas: [(\"galaxy\", \"cara tossiu\"), (\"kagayaku\", \"canalha do\"), (\"atsuki\", \"alto que\"), (\"yuushi\", \"util\")]  \n",
        "Frase: \"o galaxy\"\n",
        "\n",
        "\n",
        "__Observação:__  \n",
        "Esse problema, conhecido como O Fantástico Jaspion! foi adaptado de https://br.spoj.com/problems/JASPION/.\n",
        "\n",
        "__TADs__\n",
        "1. Python contém um tipo `dict/{}` que é um mapa: `chave --> valor`.\n",
        "1. A função `sorted` ordena dados"
      ]
    },
    {
      "cell_type": "code",
      "metadata": {
        "deletable": false,
        "nbgrader": {
          "checksum": "b31eaa4b7a92a849522714cb059b7c1c",
          "grade": false,
          "grade_id": "cell2-a00",
          "locked": false,
          "schema_version": 1,
          "solution": true
        },
        "id": "h4JtDgpDB4r0"
      },
      "source": [
        "#Exemplo:\n",
        "lista_de_tuplas = [(\"galaxy\", \"cara tossiu\"), (\"kagayaku\", \"canalha do\"), (\"atsuki\", \"alto que\"), (\"yuushi\", \"util\")]\n",
        "frase = \"o galaxy\"\n",
        "\n",
        "\n",
        "def jaspion(tuples_list, sentence):\n",
        "\n",
        "    dictionary = dict(tuples_list) # tarnsforma a lista em dicionário\n",
        "    words = sentence.split() # separa as palavras do texto\n",
        "\n",
        "    translated = \"\"\n",
        "\n",
        "    for word in words:\n",
        "      if word in dictionary:\n",
        "        # se a palavra está no dicionário, pega a sua tradução\n",
        "        translated += dictionary.get(word) + \" \"\n",
        "      else:\n",
        "        translated += word + \" \"\n",
        "    \n",
        "    # remove o último espaço em branco\n",
        "    return translated.rstrip()"
      ],
      "execution_count": 3,
      "outputs": []
    },
    {
      "cell_type": "code",
      "metadata": {
        "deletable": false,
        "editable": false,
        "nbgrader": {
          "checksum": "a59d60bf0572450a853e335844471d00",
          "grade": true,
          "grade_id": "cell2t1-a00",
          "locked": true,
          "points": 1,
          "schema_version": 1,
          "solution": false
        },
        "id": "gPUkGyT2B4r0"
      },
      "source": [
        "\"\"\"Check that jaspion returns the correct output for several inputs\"\"\"\n",
        "\n",
        "tl1 = [(\"galaxy\", \"cara tossiu\"), (\"kagayaku\", \"canalha do\"), (\"atsuki\", \"alto que\"), (\"yuushi\", \"util\")]\n",
        "s1 = \"o galaxy\"\n",
        "\n",
        "assert_equal(jaspion(tl1, s1), \"o cara tossiu\")"
      ],
      "execution_count": 4,
      "outputs": []
    },
    {
      "cell_type": "code",
      "metadata": {
        "deletable": false,
        "editable": false,
        "nbgrader": {
          "checksum": "e442d470d44ac2197891cfae0bebb0e8",
          "grade": true,
          "grade_id": "cell2t2-a00",
          "locked": true,
          "points": 1,
          "schema_version": 1,
          "solution": false
        },
        "id": "Fi5LbwICB4r1"
      },
      "source": [
        ""
      ],
      "execution_count": 4,
      "outputs": []
    },
    {
      "cell_type": "markdown",
      "metadata": {
        "deletable": false,
        "editable": false,
        "nbgrader": {
          "checksum": "7c22d543c55dac66f7c63c5b2b1f974f",
          "grade": false,
          "grade_id": "cell-f1b759af54c18ce6",
          "locked": true,
          "schema_version": 1,
          "solution": false
        },
        "id": "Pea5VtoCB4r1"
      },
      "source": [
        "# Exercício 03:\n",
        "\n",
        "Crie uma função que, dado duas listas sendo uma com nomes e outras com números, retorne uma __lista__ com os nomes associados aos números ordenados em ordem decrescente. Caso mais de um nome esteja associado a um mesmo número, eles devem ser ordenados em ordem lexicográfica. Por exemplo, dado uma lista com o nome de alguns jogadores e outra lista com os salários desses jogadores, a lista com o nome dos jogadores deve ser ordenada de forma que os primeiros jogadores sejam aqueles que possuem os maiores salários. No exemplo dado, a saída esperada é: ['Messi', 'Cristiano Ronaldo', 'Neymar', 'Bale', 'Piqué', 'Kroos', 'Sergio Ramos', 'Ibrahimovic', 'Griezmann', 'Suarez', 'Iniesta', 'Lavezzi', 'Sanchez', 'Benzema', 'Muller', 'Cavani', 'Lewandowski', 'Oscar', 'Pogba', 'Neuer']\n",
        "\n",
        "\n",
        "__Dicas:__  \n",
        "não se esqueça de manter a relação existente entre o nome e o número, ou seja, o nome que ocupa a primeira posição da lista está associado ao número da primeira posição da outra lista. \n",
        "\n",
        "__Funções:__\n",
        "1. sorted(dados) ordena uma lista de valores.\n",
        "   Exemplo, `list(sorted([3, 2, 1]))` retorna `[1, 2, 3]`\n",
        "1. `zip(lista1, lista2)`, um join de duas listas.\n",
        "   Exemplo, `zip(['b', 'a'], [1, 2])` retorna `[('b', 1), ('a', 2)]`\n",
        "1. `list(sorted([('b', 1), ('a', 2)]))` --> `[('a', 2), ('b', 1)]`"
      ]
    },
    {
      "cell_type": "code",
      "metadata": {
        "deletable": false,
        "nbgrader": {
          "checksum": "b5a1448333a4f442d5831c12b40beab5",
          "grade": false,
          "grade_id": "cell-0c77467a22e9621e",
          "locked": false,
          "schema_version": 1,
          "solution": true
        },
        "id": "PXNUSCZOB4r1"
      },
      "source": [
        "#Exemplo:\n",
        "player = [\"Neymar\", \"Piqué\", \"Benzema\", \"Neuer\", \"Iniesta\", \"Sergio Ramos\", \"Messi\", \"Oscar\", \"Griezmann\", \"Cavani\", \"Bale\", \"Pogba\", \"Cristiano Ronaldo\", \"Sanchez\", \"Kroos\", \"Lewandowski\", \"Lavezzi\", \"Ibrahimovic\", \"Muller\", \"Suarez\"]\n",
        "player_salary = [81.5, 29, 23.5, 20.8, 25.5, 27.5, 126, 22.2, 26, 22.5, 44, 22, 96, 23.55, 28.2, 22.2, 25.3, 26.8, 23, 26]\n",
        "\n",
        "\n",
        "def sort_lists(list1, list2):\n",
        "    \n",
        "    # faz o join das duas listas e as transforma em um dicionário\n",
        "    players_and_salaries = dict(zip(list1, list2))\n",
        "\n",
        "    # ordena de acordo com a ordem lexicográfica e, então, de acordo com o salário (em ordem decrescente)\n",
        "    players_and_salaries = sorted(sorted(players_and_salaries), key=players_and_salaries.__getitem__, reverse=True)\n",
        "    \n",
        "    return players_and_salaries"
      ],
      "execution_count": 5,
      "outputs": []
    },
    {
      "cell_type": "code",
      "metadata": {
        "deletable": false,
        "editable": false,
        "nbgrader": {
          "checksum": "7bb39f98cc1931d235b52c457254d7a8",
          "grade": true,
          "grade_id": "cell-82d1e69f4a30f889",
          "locked": true,
          "points": 1,
          "schema_version": 1,
          "solution": false
        },
        "id": "s63kDJWJB4r1"
      },
      "source": [
        "\"\"\"Check that sort_lists returns the correct output for several inputs\"\"\"\n",
        "\n",
        "player = [\"Neymar\", \"Piqué\", \"Benzema\", \"Neuer\", \"Iniesta\", \"Sergio Ramos\", \"Messi\", \"Oscar\", \"Griezmann\", \"Cavani\", \"Bale\", \"Pogba\", \"Cristiano Ronaldo\", \"Sanchez\", \"Kroos\", \"Lewandowski\", \"Lavezzi\", \"Ibrahimovic\", \"Muller\", \"Suarez\"]\n",
        "player_salary = [81.5, 29, 23.5, 20.8, 25.5, 27.5, 126, 22.2, 26, 22.5, 44, 22, 96, 23.55, 28.2, 22.2, 25.3, 26.8, 23, 26]\n",
        "\n",
        "assert_equal(sort_lists(player, player_salary), ['Messi', 'Cristiano Ronaldo', 'Neymar', 'Bale', 'Piqué', 'Kroos', 'Sergio Ramos', 'Ibrahimovic', 'Griezmann', 'Suarez', 'Iniesta', 'Lavezzi', 'Sanchez', 'Benzema', 'Muller', 'Cavani', 'Lewandowski', 'Oscar', 'Pogba', 'Neuer'])"
      ],
      "execution_count": 6,
      "outputs": []
    },
    {
      "cell_type": "code",
      "metadata": {
        "deletable": false,
        "editable": false,
        "nbgrader": {
          "checksum": "15676778b508eac45795485f299e7443",
          "grade": true,
          "grade_id": "cell-df6952de2c0dcfc3",
          "locked": true,
          "points": 1,
          "schema_version": 1,
          "solution": false
        },
        "id": "AfYjCqeRB4r2"
      },
      "source": [
        ""
      ],
      "execution_count": 6,
      "outputs": []
    },
    {
      "cell_type": "markdown",
      "metadata": {
        "deletable": false,
        "editable": false,
        "nbgrader": {
          "checksum": "4d403fb9b3c6e8410faee0afad39a1b2",
          "grade": false,
          "grade_id": "cell-3dc563b8935b8021",
          "locked": true,
          "schema_version": 1,
          "solution": false
        },
        "id": "pi7uuFlFB4r2"
      },
      "source": [
        "# Exercício 04:\n",
        "\n",
        "Vamos aprender um pouco de numpy. Caso necessite, leia a documentação em http://numpy.org. Inicialmente, crie uma função que recebe duas listas de numéros, converte as duas para um vetor numpy usando `np.array` e retorna o produto interno das duas listas. \n",
        "\n",
        "\n",
        "__Dicas:__  \n",
        "1. Tente fazer um código sem nenhum **for**! Ou seja, numpy permite operações em vetores e matrizes, onde: `np.array([1, 2]) + np.array([2, 2]) = np.array([3, 4])`.\n",
        "\n",
        "__Funções:__\n",
        "1. `np.sum(array)` soma os elementos do array."
      ]
    },
    {
      "cell_type": "code",
      "metadata": {
        "deletable": false,
        "nbgrader": {
          "checksum": "44eb426e8f85a11a86e87863f9dbad0c",
          "grade": false,
          "grade_id": "cell-81d5bf780d85f0e1",
          "locked": false,
          "schema_version": 1,
          "solution": true
        },
        "id": "Wv5QlpzwB4r2"
      },
      "source": [
        "import numpy as np\n",
        "\n",
        "#Exemplo:\n",
        "x1 = [2, 4, 8]\n",
        "x2 = [10, 100, 1000]\n",
        "\n",
        "\n",
        "def inner(x1, x2):\n",
        "    \n",
        "    x1 = np.array(x1)\n",
        "    x2 = np.array(x2)\n",
        "\n",
        "    return np.dot(x1, x2)"
      ],
      "execution_count": 7,
      "outputs": []
    },
    {
      "cell_type": "code",
      "metadata": {
        "deletable": false,
        "editable": false,
        "nbgrader": {
          "checksum": "c142b2212f416fd45b155b3cc8698368",
          "grade": true,
          "grade_id": "cell-fa0332fa64ee56dc",
          "locked": true,
          "points": 1,
          "schema_version": 1,
          "solution": false
        },
        "id": "masNS5KaB4r2"
      },
      "source": [
        "x1 = [2, 4, 8]\n",
        "x2 = [10, 100, 1000]\n",
        "assert_equal(20 + 400 + 8000, inner(x1, x2))"
      ],
      "execution_count": 8,
      "outputs": []
    },
    {
      "cell_type": "code",
      "metadata": {
        "deletable": false,
        "editable": false,
        "nbgrader": {
          "checksum": "554abbd1b0f60cca66e117f962da04b1",
          "grade": true,
          "grade_id": "cell-45249f4339f07aa8",
          "locked": true,
          "points": 1,
          "schema_version": 1,
          "solution": false
        },
        "id": "1kvwA5TAB4r2"
      },
      "source": [
        ""
      ],
      "execution_count": 8,
      "outputs": []
    },
    {
      "cell_type": "markdown",
      "metadata": {
        "deletable": false,
        "editable": false,
        "nbgrader": {
          "checksum": "a4217af4ac3bfe3bf3c63107bb600ecd",
          "grade": false,
          "grade_id": "cell-eba66e5ff4db20f9",
          "locked": true,
          "schema_version": 1,
          "solution": false
        },
        "id": "unT8wsB3B4r3"
      },
      "source": [
        "# Exercício 05:\n",
        "\n",
        "Por fim, implemente uma função utilizando numpy que recebe duas matrizes, multiplica as duas e retorne o valor médio das células da multiplicação. Por exemplo, ao multiplicar:\n",
        "\n",
        "```\n",
        "[1 2]\n",
        "[3 4] \n",
        "\n",
        "com \n",
        "\n",
        "[2 1]\n",
        "[1 2]\n",
        "\n",
        "temos\n",
        "\n",
        "[4  5 ]\n",
        "[10 11]\n",
        "\n",
        "onde a média de [4, 5, 10, 11] é\n",
        "\n",
        "7.5, sua resposta final!\n",
        "```\n",
        "\n",
        "\n",
        "__Dicas:__  \n",
        "1. Use o operador @ para multiplicar matrizes!"
      ]
    },
    {
      "cell_type": "code",
      "metadata": {
        "deletable": false,
        "nbgrader": {
          "checksum": "ddf94e98d9aa191c98431398d2d25622",
          "grade": false,
          "grade_id": "cell-284de1851443c7cf",
          "locked": false,
          "schema_version": 1,
          "solution": true
        },
        "id": "8bi8EsgbB4r3"
      },
      "source": [
        "def medmult(X, Y):\n",
        "    \n",
        "    multiply = X @ Y\n",
        "    return np.mean(multiply)"
      ],
      "execution_count": 9,
      "outputs": []
    },
    {
      "cell_type": "code",
      "metadata": {
        "deletable": false,
        "editable": false,
        "nbgrader": {
          "checksum": "34dd79f462191efd0e203536abfa1dc9",
          "grade": true,
          "grade_id": "cell-b91c763e84aeda96",
          "locked": true,
          "points": 1,
          "schema_version": 1,
          "solution": false
        },
        "id": "uo1rV-DKB4r3"
      },
      "source": [
        "X = np.array([1, 2, 3, 4]).reshape(2, 2)\n",
        "Y = np.array([2, 1, 1, 2]).reshape(2, 2)\n",
        "assert_equal(7.5, medmult(X, Y))"
      ],
      "execution_count": 10,
      "outputs": []
    },
    {
      "cell_type": "code",
      "metadata": {
        "deletable": false,
        "editable": false,
        "nbgrader": {
          "checksum": "17403cc888d2f6ad5dac0d32e84044f3",
          "grade": true,
          "grade_id": "cell-16fd7395e0e257d4",
          "locked": true,
          "points": 1,
          "schema_version": 1,
          "solution": false
        },
        "id": "MQ8CT4OcB4r3"
      },
      "source": [
        ""
      ],
      "execution_count": 10,
      "outputs": []
    },
    {
      "cell_type": "code",
      "metadata": {
        "id": "hRvy1jIoB4r3"
      },
      "source": [
        ""
      ],
      "execution_count": 10,
      "outputs": []
    }
  ]
}